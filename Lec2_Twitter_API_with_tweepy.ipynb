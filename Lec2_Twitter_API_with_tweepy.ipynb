{
 "cells": [
  {
   "cell_type": "markdown",
   "metadata": {},
   "source": [
    "Get your own API key and Access Token from Twitter: https://www.gabfirethemes.com/create-twitter-api-key/"
   ]
  },
  {
   "cell_type": "code",
   "execution_count": 1,
   "metadata": {},
   "outputs": [],
   "source": [
    "api_key = '1A6meE7aPDbiCaGtv4pRwAneC'\n",
    "api_secret = 'reIcPalLcUQegUwsLxaBrhTCFVJQOVLjUDkCWm7JbHM2HSJmRx'\n",
    "access_token = '213419166-35ceEJa5WAfoMRPXpnfC50Ukxq4hi3RRxLzP8ixy'\n",
    "access_token_secret = 'Xi07r9tE2iw4zOJBDa6BEJaIeB569ZMtj8aUdb2VNuGH6'"
   ]
  },
  {
   "cell_type": "code",
   "execution_count": 2,
   "metadata": {},
   "outputs": [],
   "source": [
    "import tweepy"
   ]
  },
  {
   "cell_type": "code",
   "execution_count": 3,
   "metadata": {},
   "outputs": [],
   "source": [
    "auth = tweepy.OAuthHandler(api_key, api_secret)\n",
    "auth.set_access_token(access_token, access_token_secret)\n",
    "api = tweepy.API(auth)"
   ]
  },
  {
   "cell_type": "code",
   "execution_count": 8,
   "metadata": {},
   "outputs": [],
   "source": [
    "users = api.search_users(q='Elon Musk')"
   ]
  },
  {
   "cell_type": "code",
   "execution_count": 9,
   "metadata": {},
   "outputs": [
    {
     "data": {
      "text/plain": [
       "17"
      ]
     },
     "execution_count": 9,
     "metadata": {},
     "output_type": "execute_result"
    }
   ],
   "source": [
    "len(users)"
   ]
  },
  {
   "cell_type": "code",
   "execution_count": 10,
   "metadata": {},
   "outputs": [
    {
     "name": "stdout",
     "output_type": "stream",
     "text": [
      "We found 17 users\n",
      "Elon Musk\n",
      "Elon Musk\n",
      "Elon Musk (for serious Im totally him)\n",
      "Elon Musk\n",
      "Dillon\n",
      "Elon Musk\n",
      "Elon Musk\n",
      "Elon Musk\n",
      "🍸🇺🇸\n",
      "Elon Musk\n",
      "Elon Musk\n",
      "WOMEN ARE LITERALLY HUMANS get tote bag in my pic\n",
      "Elon Musk Fondles Dogs\n",
      "Elon Musk News\n",
      "steven ''italian elon musk'' monacelli\n",
      "Richard Masucci (ReviewTechUSA)\n",
      "BORED.eth\n"
     ]
    }
   ],
   "source": [
    "print('We found {} users'.format(len(users)))\n",
    "for user in users:\n",
    "    print(user.name)"
   ]
  },
  {
   "cell_type": "code",
   "execution_count": 7,
   "metadata": {},
   "outputs": [
    {
     "data": {
      "text/plain": [
       "['__class__',\n",
       " '__delattr__',\n",
       " '__dict__',\n",
       " '__dir__',\n",
       " '__doc__',\n",
       " '__eq__',\n",
       " '__format__',\n",
       " '__ge__',\n",
       " '__getattribute__',\n",
       " '__getstate__',\n",
       " '__gt__',\n",
       " '__hash__',\n",
       " '__init__',\n",
       " '__init_subclass__',\n",
       " '__le__',\n",
       " '__lt__',\n",
       " '__module__',\n",
       " '__ne__',\n",
       " '__new__',\n",
       " '__reduce__',\n",
       " '__reduce_ex__',\n",
       " '__repr__',\n",
       " '__setattr__',\n",
       " '__sizeof__',\n",
       " '__slots__',\n",
       " '__str__',\n",
       " '__subclasshook__',\n",
       " '__weakref__',\n",
       " '_api',\n",
       " '_json',\n",
       " 'contributors_enabled',\n",
       " 'created_at',\n",
       " 'default_profile',\n",
       " 'default_profile_image',\n",
       " 'description',\n",
       " 'entities',\n",
       " 'favourites_count',\n",
       " 'follow',\n",
       " 'follow_request_sent',\n",
       " 'follower_ids',\n",
       " 'followers',\n",
       " 'followers_count',\n",
       " 'following',\n",
       " 'friends',\n",
       " 'friends_count',\n",
       " 'geo_enabled',\n",
       " 'has_extended_profile',\n",
       " 'id',\n",
       " 'id_str',\n",
       " 'is_translation_enabled',\n",
       " 'is_translator',\n",
       " 'lang',\n",
       " 'list_memberships',\n",
       " 'list_ownerships',\n",
       " 'list_subscriptions',\n",
       " 'listed_count',\n",
       " 'lists',\n",
       " 'location',\n",
       " 'name',\n",
       " 'notifications',\n",
       " 'parse',\n",
       " 'parse_list',\n",
       " 'profile_background_color',\n",
       " 'profile_background_image_url',\n",
       " 'profile_background_image_url_https',\n",
       " 'profile_background_tile',\n",
       " 'profile_banner_url',\n",
       " 'profile_image_url',\n",
       " 'profile_image_url_https',\n",
       " 'profile_link_color',\n",
       " 'profile_sidebar_border_color',\n",
       " 'profile_sidebar_fill_color',\n",
       " 'profile_text_color',\n",
       " 'profile_use_background_image',\n",
       " 'protected',\n",
       " 'screen_name',\n",
       " 'status',\n",
       " 'statuses_count',\n",
       " 'time_zone',\n",
       " 'timeline',\n",
       " 'translator_type',\n",
       " 'unfollow',\n",
       " 'url',\n",
       " 'utc_offset',\n",
       " 'verified',\n",
       " 'withheld_in_countries']"
      ]
     },
     "execution_count": 7,
     "metadata": {},
     "output_type": "execute_result"
    }
   ],
   "source": [
    "dir(users[0])"
   ]
  },
  {
   "cell_type": "code",
   "execution_count": 11,
   "metadata": {},
   "outputs": [],
   "source": [
    "musk = users[0]"
   ]
  },
  {
   "cell_type": "code",
   "execution_count": 21,
   "metadata": {},
   "outputs": [
    {
     "data": {
      "text/plain": [
       "'elonmusk'"
      ]
     },
     "execution_count": 21,
     "metadata": {},
     "output_type": "execute_result"
    }
   ],
   "source": [
    "musk.screen_name"
   ]
  },
  {
   "cell_type": "code",
   "execution_count": 13,
   "metadata": {},
   "outputs": [
    {
     "data": {
      "text/plain": [
       "115112741"
      ]
     },
     "execution_count": 13,
     "metadata": {},
     "output_type": "execute_result"
    }
   ],
   "source": [
    "musk.followers_count"
   ]
  },
  {
   "cell_type": "code",
   "execution_count": 14,
   "metadata": {},
   "outputs": [
    {
     "data": {
      "text/plain": [
       "115.112741"
      ]
     },
     "execution_count": 14,
     "metadata": {},
     "output_type": "execute_result"
    }
   ],
   "source": [
    "musk.followers_count / (1 * 10 ** 6)"
   ]
  },
  {
   "cell_type": "code",
   "execution_count": 15,
   "metadata": {},
   "outputs": [],
   "source": [
    "musk_tweets = tweepy.Cursor(api.user_timeline, screen_name=musk.screen_name).items(50)"
   ]
  },
  {
   "cell_type": "code",
   "execution_count": 16,
   "metadata": {},
   "outputs": [
    {
     "name": "stdout",
     "output_type": "stream",
     "text": [
      "@micsolana When reality is indistinguishable from satire\n",
      "@WholeMarsBlog ✌️\n",
      "@monitoringbias It is borderline illegal to support Republicans in San Francisco! \n",
      "\n",
      "Even admitting you know some is pretty bad 🤣\n",
      "@TrungTPhan 🤣\n",
      "@BillyM2k 🤣\n",
      "@ZubyMusic Good point\n",
      "@DavidSacks Yes\n",
      "@RustyRoad @ID_AA_Carmack Twitter is the most interesting place on the Internet\n",
      "Twitter is the worst!\n",
      "But also the best.\n",
      "@andst7 🤣\n",
      "@stevekrenzel Wow, this is messed up!\n",
      "@WholeMarsBlog Politics is war and truth is the first casualty\n",
      "@PPathole @mayemusk While it’s true that I’ve been under unfair &amp; misleading attack for some time by leading Democr… https://t.co/49kTQpVHNm\n",
      "@BillyM2k @laoisman80 @hankgreen Exactly\n",
      "@yoyoel Important thread\n",
      "@BillyM2k 🤣🤷‍♂️\n",
      "@ID_AA_Carmack https://t.co/pgTSY1zIdc\n",
      "@HeidiBriones 💯\n",
      "https://t.co/3t5ahItE5z\n",
      "I just hope the servers don’t melt!\n",
      "Twitter usage is at an all-time high lol\n",
      "@EvaFoxU 🤣\n",
      "And I’m open to the idea of voting Democrat again in the future\n",
      "@BillyM2k 🤣🤣💯\n",
      "To be clear, my historical party affiliation has been Independent, with an actual voting history of entirely Democrat until this year\n",
      "@MattWallace888 @hankgreen True\n",
      "@hankgreen Like most people in America, I agree with some of the Democrat and some of the Republican policies, but… https://t.co/VZII8Cy54n\n",
      "RT @Tesla: Meet Megafactory, our new Megapack factory in Lathrop, CA 🔋🔋🔋 https://t.co/aw85eHECXI\n",
      "RT @Tesla: View all destination chargers → https://t.co/lqJMwQTuvH\n",
      "Hardcore Democrats or Republicans never vote for the other side, so independent voters are the ones who actually decide who’s in charge!\n",
      "To independent-minded voters:\n",
      "\n",
      "Shared power curbs the worst excesses of both parties, therefore I recommend voting… https://t.co/eoF1ahHtxj\n",
      "But if Twitter is bird, that’s means … 🤯\n",
      "Back when birds were real\n",
      "How times have changed https://t.co/gCxUkZ4kZC\n",
      "@TomFitton @Twitter We do\n",
      "Twitter rules will evolve over time, but they’re currently the following: https://t.co/Ut1tXuefso\n",
      "@greg16676935420 @jack Birds haven’t been real since 1986 https://t.co/lR6BZj0nwX\n",
      "@mcuban $8 for all\n",
      "@stillgray @jack Exactly\n",
      "@jack Not everything needs to have “bird” in the name! Too many bird groups fighting each internally other at Twitter. Angry Birds.\n",
      "@jack Birdwatch gives me the creeps\n",
      "@SarahKSilverman Community Notes aka @birdwatch\n",
      "@GPrime85 @bennyjohnson @kathygriffin 🤣\n",
      "@bennyjohnson @kathygriffin For $8\n",
      "@bennyjohnson @kathygriffin But if she really wants her account back, she can have it\n",
      "@bennyjohnson @kathygriffin Actually, she was suspended for impersonating a comedian\n",
      "@stillgray At the end of the day, if Twitter is indeed the most accurate source of information, more people will use it\n",
      "@jack As judged by the people of Twitter via Community Notes (formerly Birdwatch)\n",
      "@RationalEtienne @kylegrantham Absolutely\n",
      "@kylegrantham You represent the problem: journalists who think they are the only source of legitimate information. That’s the big lie.\n"
     ]
    }
   ],
   "source": [
    "for tweet in musk_tweets:\n",
    "    print(tweet.text)"
   ]
  },
  {
   "cell_type": "code",
   "execution_count": 18,
   "metadata": {},
   "outputs": [],
   "source": [
    "musk_tweets = tweepy.Cursor(api.user_timeline, screen_name=musk.screen_name).items(50)"
   ]
  },
  {
   "cell_type": "code",
   "execution_count": 19,
   "metadata": {},
   "outputs": [],
   "source": [
    "tweet1 = next(musk_tweets)"
   ]
  },
  {
   "cell_type": "code",
   "execution_count": 20,
   "metadata": {
    "scrolled": true
   },
   "outputs": [
    {
     "data": {
      "text/plain": [
       "{'hashtags': [],\n",
       " 'symbols': [],\n",
       " 'user_mentions': [{'screen_name': 'micsolana',\n",
       "   'name': 'Mike Solana',\n",
       "   'id': 18989355,\n",
       "   'id_str': '18989355',\n",
       "   'indices': [0, 10]}],\n",
       " 'urls': []}"
      ]
     },
     "execution_count": 20,
     "metadata": {},
     "output_type": "execute_result"
    }
   ],
   "source": [
    "tweet1.entities"
   ]
  },
  {
   "cell_type": "code",
   "execution_count": 22,
   "metadata": {},
   "outputs": [
    {
     "data": {
      "text/html": [
       "<div>\n",
       "<style scoped>\n",
       "    .dataframe tbody tr th:only-of-type {\n",
       "        vertical-align: middle;\n",
       "    }\n",
       "\n",
       "    .dataframe tbody tr th {\n",
       "        vertical-align: top;\n",
       "    }\n",
       "\n",
       "    .dataframe thead th {\n",
       "        text-align: right;\n",
       "    }\n",
       "</style>\n",
       "<table border=\"1\" class=\"dataframe\">\n",
       "  <thead>\n",
       "    <tr style=\"text-align: right;\">\n",
       "      <th></th>\n",
       "      <th>Tweets</th>\n",
       "    </tr>\n",
       "  </thead>\n",
       "  <tbody>\n",
       "    <tr>\n",
       "      <th>0</th>\n",
       "      <td>@micsolana When reality is indistinguishable f...</td>\n",
       "    </tr>\n",
       "    <tr>\n",
       "      <th>1</th>\n",
       "      <td>@WholeMarsBlog ✌️</td>\n",
       "    </tr>\n",
       "    <tr>\n",
       "      <th>2</th>\n",
       "      <td>@monitoringbias It is borderline illegal to su...</td>\n",
       "    </tr>\n",
       "    <tr>\n",
       "      <th>3</th>\n",
       "      <td>@TrungTPhan 🤣</td>\n",
       "    </tr>\n",
       "    <tr>\n",
       "      <th>4</th>\n",
       "      <td>@BillyM2k 🤣</td>\n",
       "    </tr>\n",
       "    <tr>\n",
       "      <th>5</th>\n",
       "      <td>@ZubyMusic Good point</td>\n",
       "    </tr>\n",
       "    <tr>\n",
       "      <th>6</th>\n",
       "      <td>@DavidSacks Yes</td>\n",
       "    </tr>\n",
       "    <tr>\n",
       "      <th>7</th>\n",
       "      <td>@RustyRoad @ID_AA_Carmack Twitter is the most ...</td>\n",
       "    </tr>\n",
       "    <tr>\n",
       "      <th>8</th>\n",
       "      <td>Twitter is the worst!\\nBut also the best.</td>\n",
       "    </tr>\n",
       "    <tr>\n",
       "      <th>9</th>\n",
       "      <td>@andst7 🤣</td>\n",
       "    </tr>\n",
       "  </tbody>\n",
       "</table>\n",
       "</div>"
      ],
      "text/plain": [
       "                                              Tweets\n",
       "0  @micsolana When reality is indistinguishable f...\n",
       "1                                  @WholeMarsBlog ✌️\n",
       "2  @monitoringbias It is borderline illegal to su...\n",
       "3                                      @TrungTPhan 🤣\n",
       "4                                        @BillyM2k 🤣\n",
       "5                              @ZubyMusic Good point\n",
       "6                                    @DavidSacks Yes\n",
       "7  @RustyRoad @ID_AA_Carmack Twitter is the most ...\n",
       "8          Twitter is the worst!\\nBut also the best.\n",
       "9                                          @andst7 🤣"
      ]
     },
     "execution_count": 22,
     "metadata": {},
     "output_type": "execute_result"
    }
   ],
   "source": [
    "import pandas as pd\n",
    "tweets = api.user_timeline(screen_name=\"elonmusk\", count=200)\n",
    "data = pd.DataFrame(data=[tweet.text for tweet in tweets], columns=['Tweets'])\n",
    "data.head(10)"
   ]
  },
  {
   "cell_type": "code",
   "execution_count": 23,
   "metadata": {},
   "outputs": [
    {
     "data": {
      "text/html": [
       "<div>\n",
       "<style scoped>\n",
       "    .dataframe tbody tr th:only-of-type {\n",
       "        vertical-align: middle;\n",
       "    }\n",
       "\n",
       "    .dataframe tbody tr th {\n",
       "        vertical-align: top;\n",
       "    }\n",
       "\n",
       "    .dataframe thead th {\n",
       "        text-align: right;\n",
       "    }\n",
       "</style>\n",
       "<table border=\"1\" class=\"dataframe\">\n",
       "  <thead>\n",
       "    <tr style=\"text-align: right;\">\n",
       "      <th></th>\n",
       "      <th>Tweets</th>\n",
       "    </tr>\n",
       "  </thead>\n",
       "  <tbody>\n",
       "    <tr>\n",
       "      <th>0</th>\n",
       "      <td>@micsolana When reality is indistinguishable f...</td>\n",
       "    </tr>\n",
       "    <tr>\n",
       "      <th>1</th>\n",
       "      <td>@WholeMarsBlog ✌️</td>\n",
       "    </tr>\n",
       "    <tr>\n",
       "      <th>2</th>\n",
       "      <td>@monitoringbias It is borderline illegal to su...</td>\n",
       "    </tr>\n",
       "    <tr>\n",
       "      <th>3</th>\n",
       "      <td>@TrungTPhan 🤣</td>\n",
       "    </tr>\n",
       "    <tr>\n",
       "      <th>4</th>\n",
       "      <td>@BillyM2k 🤣</td>\n",
       "    </tr>\n",
       "    <tr>\n",
       "      <th>5</th>\n",
       "      <td>@ZubyMusic Good point</td>\n",
       "    </tr>\n",
       "    <tr>\n",
       "      <th>6</th>\n",
       "      <td>@DavidSacks Yes</td>\n",
       "    </tr>\n",
       "    <tr>\n",
       "      <th>7</th>\n",
       "      <td>@RustyRoad @ID_AA_Carmack Twitter is the most ...</td>\n",
       "    </tr>\n",
       "    <tr>\n",
       "      <th>8</th>\n",
       "      <td>Twitter is the worst!\\nBut also the best.</td>\n",
       "    </tr>\n",
       "    <tr>\n",
       "      <th>9</th>\n",
       "      <td>@andst7 🤣</td>\n",
       "    </tr>\n",
       "    <tr>\n",
       "      <th>10</th>\n",
       "      <td>@stevekrenzel Wow, this is messed up!</td>\n",
       "    </tr>\n",
       "    <tr>\n",
       "      <th>11</th>\n",
       "      <td>@WholeMarsBlog Politics is war and truth is th...</td>\n",
       "    </tr>\n",
       "    <tr>\n",
       "      <th>12</th>\n",
       "      <td>@PPathole @mayemusk While it’s true that I’ve ...</td>\n",
       "    </tr>\n",
       "    <tr>\n",
       "      <th>13</th>\n",
       "      <td>@BillyM2k @laoisman80 @hankgreen Exactly</td>\n",
       "    </tr>\n",
       "    <tr>\n",
       "      <th>14</th>\n",
       "      <td>@yoyoel Important thread</td>\n",
       "    </tr>\n",
       "    <tr>\n",
       "      <th>15</th>\n",
       "      <td>@BillyM2k 🤣🤷‍♂️</td>\n",
       "    </tr>\n",
       "    <tr>\n",
       "      <th>16</th>\n",
       "      <td>@ID_AA_Carmack https://t.co/pgTSY1zIdc</td>\n",
       "    </tr>\n",
       "    <tr>\n",
       "      <th>17</th>\n",
       "      <td>@HeidiBriones 💯</td>\n",
       "    </tr>\n",
       "    <tr>\n",
       "      <th>18</th>\n",
       "      <td>https://t.co/3t5ahItE5z</td>\n",
       "    </tr>\n",
       "    <tr>\n",
       "      <th>19</th>\n",
       "      <td>I just hope the servers don’t melt!</td>\n",
       "    </tr>\n",
       "  </tbody>\n",
       "</table>\n",
       "</div>"
      ],
      "text/plain": [
       "                                               Tweets\n",
       "0   @micsolana When reality is indistinguishable f...\n",
       "1                                   @WholeMarsBlog ✌️\n",
       "2   @monitoringbias It is borderline illegal to su...\n",
       "3                                       @TrungTPhan 🤣\n",
       "4                                         @BillyM2k 🤣\n",
       "5                               @ZubyMusic Good point\n",
       "6                                     @DavidSacks Yes\n",
       "7   @RustyRoad @ID_AA_Carmack Twitter is the most ...\n",
       "8           Twitter is the worst!\\nBut also the best.\n",
       "9                                           @andst7 🤣\n",
       "10              @stevekrenzel Wow, this is messed up!\n",
       "11  @WholeMarsBlog Politics is war and truth is th...\n",
       "12  @PPathole @mayemusk While it’s true that I’ve ...\n",
       "13           @BillyM2k @laoisman80 @hankgreen Exactly\n",
       "14                           @yoyoel Important thread\n",
       "15                                    @BillyM2k 🤣🤷‍♂️\n",
       "16             @ID_AA_Carmack https://t.co/pgTSY1zIdc\n",
       "17                                    @HeidiBriones 💯\n",
       "18                            https://t.co/3t5ahItE5z\n",
       "19                I just hope the servers don’t melt!"
      ]
     },
     "execution_count": 23,
     "metadata": {},
     "output_type": "execute_result"
    }
   ],
   "source": [
    "data.head(20)"
   ]
  },
  {
   "cell_type": "code",
   "execution_count": 24,
   "metadata": {},
   "outputs": [
    {
     "data": {
      "text/html": [
       "<div>\n",
       "<style scoped>\n",
       "    .dataframe tbody tr th:only-of-type {\n",
       "        vertical-align: middle;\n",
       "    }\n",
       "\n",
       "    .dataframe tbody tr th {\n",
       "        vertical-align: top;\n",
       "    }\n",
       "\n",
       "    .dataframe thead th {\n",
       "        text-align: right;\n",
       "    }\n",
       "</style>\n",
       "<table border=\"1\" class=\"dataframe\">\n",
       "  <thead>\n",
       "    <tr style=\"text-align: right;\">\n",
       "      <th></th>\n",
       "      <th>Tweets</th>\n",
       "      <th>Date</th>\n",
       "    </tr>\n",
       "  </thead>\n",
       "  <tbody>\n",
       "    <tr>\n",
       "      <th>0</th>\n",
       "      <td>@micsolana When reality is indistinguishable f...</td>\n",
       "      <td>2022-11-09 00:52:20+00:00</td>\n",
       "    </tr>\n",
       "    <tr>\n",
       "      <th>1</th>\n",
       "      <td>@WholeMarsBlog ✌️</td>\n",
       "      <td>2022-11-08 21:09:26+00:00</td>\n",
       "    </tr>\n",
       "    <tr>\n",
       "      <th>2</th>\n",
       "      <td>@monitoringbias It is borderline illegal to su...</td>\n",
       "      <td>2022-11-08 21:08:30+00:00</td>\n",
       "    </tr>\n",
       "    <tr>\n",
       "      <th>3</th>\n",
       "      <td>@TrungTPhan 🤣</td>\n",
       "      <td>2022-11-08 20:12:35+00:00</td>\n",
       "    </tr>\n",
       "    <tr>\n",
       "      <th>4</th>\n",
       "      <td>@BillyM2k 🤣</td>\n",
       "      <td>2022-11-08 20:10:24+00:00</td>\n",
       "    </tr>\n",
       "    <tr>\n",
       "      <th>...</th>\n",
       "      <td>...</td>\n",
       "      <td>...</td>\n",
       "    </tr>\n",
       "    <tr>\n",
       "      <th>195</th>\n",
       "      <td>https://t.co/8paUCM8nh9</td>\n",
       "      <td>2022-11-01 05:34:22+00:00</td>\n",
       "    </tr>\n",
       "    <tr>\n",
       "      <th>196</th>\n",
       "      <td>@StephenKing I will explain the rationale in l...</td>\n",
       "      <td>2022-11-01 05:25:00+00:00</td>\n",
       "    </tr>\n",
       "    <tr>\n",
       "      <th>197</th>\n",
       "      <td>@StephenKing We need to pay the bills somehow!...</td>\n",
       "      <td>2022-11-01 05:16:09+00:00</td>\n",
       "    </tr>\n",
       "    <tr>\n",
       "      <th>198</th>\n",
       "      <td>😉 https://t.co/eaIYaDRBnu</td>\n",
       "      <td>2022-11-01 04:17:24+00:00</td>\n",
       "    </tr>\n",
       "    <tr>\n",
       "      <th>199</th>\n",
       "      <td>Halloween with my Mom https://t.co/xOAgNeeiNN</td>\n",
       "      <td>2022-11-01 04:15:02+00:00</td>\n",
       "    </tr>\n",
       "  </tbody>\n",
       "</table>\n",
       "<p>200 rows × 2 columns</p>\n",
       "</div>"
      ],
      "text/plain": [
       "                                                Tweets  \\\n",
       "0    @micsolana When reality is indistinguishable f...   \n",
       "1                                    @WholeMarsBlog ✌️   \n",
       "2    @monitoringbias It is borderline illegal to su...   \n",
       "3                                        @TrungTPhan 🤣   \n",
       "4                                          @BillyM2k 🤣   \n",
       "..                                                 ...   \n",
       "195                            https://t.co/8paUCM8nh9   \n",
       "196  @StephenKing I will explain the rationale in l...   \n",
       "197  @StephenKing We need to pay the bills somehow!...   \n",
       "198                          😉 https://t.co/eaIYaDRBnu   \n",
       "199      Halloween with my Mom https://t.co/xOAgNeeiNN   \n",
       "\n",
       "                         Date  \n",
       "0   2022-11-09 00:52:20+00:00  \n",
       "1   2022-11-08 21:09:26+00:00  \n",
       "2   2022-11-08 21:08:30+00:00  \n",
       "3   2022-11-08 20:12:35+00:00  \n",
       "4   2022-11-08 20:10:24+00:00  \n",
       "..                        ...  \n",
       "195 2022-11-01 05:34:22+00:00  \n",
       "196 2022-11-01 05:25:00+00:00  \n",
       "197 2022-11-01 05:16:09+00:00  \n",
       "198 2022-11-01 04:17:24+00:00  \n",
       "199 2022-11-01 04:15:02+00:00  \n",
       "\n",
       "[200 rows x 2 columns]"
      ]
     },
     "execution_count": 24,
     "metadata": {},
     "output_type": "execute_result"
    }
   ],
   "source": [
    "data['Date'] = [x.created_at for x in tweets]\n",
    "data"
   ]
  },
  {
   "cell_type": "code",
   "execution_count": 25,
   "metadata": {},
   "outputs": [],
   "source": [
    "data['len']  = [len(x.text) for x in tweets]  # number of characters in a tweet (think length)\n",
    "data['ID']   = [x.id for x in tweets]\n",
    "data['Source'] = [x.source for x in tweets]\n",
    "data['Likes']  = [x.favorite_count for x in tweets] # favorite_count\n",
    "data['RTs']    =  [x.retweet_count for x in tweets]  # retweet count"
   ]
  },
  {
   "cell_type": "code",
   "execution_count": 26,
   "metadata": {},
   "outputs": [
    {
     "data": {
      "text/html": [
       "<div>\n",
       "<style scoped>\n",
       "    .dataframe tbody tr th:only-of-type {\n",
       "        vertical-align: middle;\n",
       "    }\n",
       "\n",
       "    .dataframe tbody tr th {\n",
       "        vertical-align: top;\n",
       "    }\n",
       "\n",
       "    .dataframe thead th {\n",
       "        text-align: right;\n",
       "    }\n",
       "</style>\n",
       "<table border=\"1\" class=\"dataframe\">\n",
       "  <thead>\n",
       "    <tr style=\"text-align: right;\">\n",
       "      <th></th>\n",
       "      <th>Tweets</th>\n",
       "      <th>Date</th>\n",
       "      <th>len</th>\n",
       "      <th>ID</th>\n",
       "      <th>Source</th>\n",
       "      <th>Likes</th>\n",
       "      <th>RTs</th>\n",
       "    </tr>\n",
       "  </thead>\n",
       "  <tbody>\n",
       "    <tr>\n",
       "      <th>0</th>\n",
       "      <td>@micsolana When reality is indistinguishable f...</td>\n",
       "      <td>2022-11-09 00:52:20+00:00</td>\n",
       "      <td>56</td>\n",
       "      <td>1590145227121397761</td>\n",
       "      <td>Twitter for iPhone</td>\n",
       "      <td>43863</td>\n",
       "      <td>2741</td>\n",
       "    </tr>\n",
       "    <tr>\n",
       "      <th>1</th>\n",
       "      <td>@WholeMarsBlog ✌️</td>\n",
       "      <td>2022-11-08 21:09:26+00:00</td>\n",
       "      <td>17</td>\n",
       "      <td>1590089134563291136</td>\n",
       "      <td>Twitter for iPhone</td>\n",
       "      <td>30260</td>\n",
       "      <td>997</td>\n",
       "    </tr>\n",
       "    <tr>\n",
       "      <th>2</th>\n",
       "      <td>@monitoringbias It is borderline illegal to su...</td>\n",
       "      <td>2022-11-08 21:08:30+00:00</td>\n",
       "      <td>128</td>\n",
       "      <td>1590088898881159168</td>\n",
       "      <td>Twitter for iPhone</td>\n",
       "      <td>106926</td>\n",
       "      <td>8121</td>\n",
       "    </tr>\n",
       "    <tr>\n",
       "      <th>3</th>\n",
       "      <td>@TrungTPhan 🤣</td>\n",
       "      <td>2022-11-08 20:12:35+00:00</td>\n",
       "      <td>13</td>\n",
       "      <td>1590074828656365568</td>\n",
       "      <td>Twitter for iPhone</td>\n",
       "      <td>3955</td>\n",
       "      <td>132</td>\n",
       "    </tr>\n",
       "    <tr>\n",
       "      <th>4</th>\n",
       "      <td>@BillyM2k 🤣</td>\n",
       "      <td>2022-11-08 20:10:24+00:00</td>\n",
       "      <td>11</td>\n",
       "      <td>1590074277243781120</td>\n",
       "      <td>Twitter for iPhone</td>\n",
       "      <td>9383</td>\n",
       "      <td>438</td>\n",
       "    </tr>\n",
       "    <tr>\n",
       "      <th>5</th>\n",
       "      <td>@ZubyMusic Good point</td>\n",
       "      <td>2022-11-08 20:08:38+00:00</td>\n",
       "      <td>21</td>\n",
       "      <td>1590073832500756480</td>\n",
       "      <td>Twitter for iPhone</td>\n",
       "      <td>42088</td>\n",
       "      <td>1179</td>\n",
       "    </tr>\n",
       "    <tr>\n",
       "      <th>6</th>\n",
       "      <td>@DavidSacks Yes</td>\n",
       "      <td>2022-11-08 18:29:50+00:00</td>\n",
       "      <td>15</td>\n",
       "      <td>1590048968830222336</td>\n",
       "      <td>Twitter for iPhone</td>\n",
       "      <td>9481</td>\n",
       "      <td>455</td>\n",
       "    </tr>\n",
       "    <tr>\n",
       "      <th>7</th>\n",
       "      <td>@RustyRoad @ID_AA_Carmack Twitter is the most ...</td>\n",
       "      <td>2022-11-08 16:10:21+00:00</td>\n",
       "      <td>79</td>\n",
       "      <td>1590013865626333185</td>\n",
       "      <td>Twitter for iPhone</td>\n",
       "      <td>6888</td>\n",
       "      <td>499</td>\n",
       "    </tr>\n",
       "    <tr>\n",
       "      <th>8</th>\n",
       "      <td>Twitter is the worst!\\nBut also the best.</td>\n",
       "      <td>2022-11-08 15:32:13+00:00</td>\n",
       "      <td>40</td>\n",
       "      <td>1590004271625691136</td>\n",
       "      <td>Twitter for iPhone</td>\n",
       "      <td>534609</td>\n",
       "      <td>38766</td>\n",
       "    </tr>\n",
       "    <tr>\n",
       "      <th>9</th>\n",
       "      <td>@andst7 🤣</td>\n",
       "      <td>2022-11-08 15:26:47+00:00</td>\n",
       "      <td>9</td>\n",
       "      <td>1590002903754080256</td>\n",
       "      <td>Twitter for iPhone</td>\n",
       "      <td>23369</td>\n",
       "      <td>749</td>\n",
       "    </tr>\n",
       "  </tbody>\n",
       "</table>\n",
       "</div>"
      ],
      "text/plain": [
       "                                              Tweets  \\\n",
       "0  @micsolana When reality is indistinguishable f...   \n",
       "1                                  @WholeMarsBlog ✌️   \n",
       "2  @monitoringbias It is borderline illegal to su...   \n",
       "3                                      @TrungTPhan 🤣   \n",
       "4                                        @BillyM2k 🤣   \n",
       "5                              @ZubyMusic Good point   \n",
       "6                                    @DavidSacks Yes   \n",
       "7  @RustyRoad @ID_AA_Carmack Twitter is the most ...   \n",
       "8          Twitter is the worst!\\nBut also the best.   \n",
       "9                                          @andst7 🤣   \n",
       "\n",
       "                       Date  len                   ID              Source  \\\n",
       "0 2022-11-09 00:52:20+00:00   56  1590145227121397761  Twitter for iPhone   \n",
       "1 2022-11-08 21:09:26+00:00   17  1590089134563291136  Twitter for iPhone   \n",
       "2 2022-11-08 21:08:30+00:00  128  1590088898881159168  Twitter for iPhone   \n",
       "3 2022-11-08 20:12:35+00:00   13  1590074828656365568  Twitter for iPhone   \n",
       "4 2022-11-08 20:10:24+00:00   11  1590074277243781120  Twitter for iPhone   \n",
       "5 2022-11-08 20:08:38+00:00   21  1590073832500756480  Twitter for iPhone   \n",
       "6 2022-11-08 18:29:50+00:00   15  1590048968830222336  Twitter for iPhone   \n",
       "7 2022-11-08 16:10:21+00:00   79  1590013865626333185  Twitter for iPhone   \n",
       "8 2022-11-08 15:32:13+00:00   40  1590004271625691136  Twitter for iPhone   \n",
       "9 2022-11-08 15:26:47+00:00    9  1590002903754080256  Twitter for iPhone   \n",
       "\n",
       "    Likes    RTs  \n",
       "0   43863   2741  \n",
       "1   30260    997  \n",
       "2  106926   8121  \n",
       "3    3955    132  \n",
       "4    9383    438  \n",
       "5   42088   1179  \n",
       "6    9481    455  \n",
       "7    6888    499  \n",
       "8  534609  38766  \n",
       "9   23369    749  "
      ]
     },
     "metadata": {},
     "output_type": "display_data"
    }
   ],
   "source": [
    "display(data.head(10))"
   ]
  },
  {
   "cell_type": "code",
   "execution_count": 27,
   "metadata": {},
   "outputs": [
    {
     "name": "stdout",
     "output_type": "stream",
     "text": [
      "The tweet with more retweets is: \n",
      "https://t.co/kGncG7Hs3M\n",
      "Number of retweets: 180505\n",
      "23 characters.\n",
      "\n"
     ]
    }
   ],
   "source": [
    "import numpy as np\n",
    "rt_max = data['RTs'].max()\n",
    "rt_tweet = data[data['RTs'] == rt_max]\n",
    "# Max RTs:\n",
    "print(\"The tweet with more retweets is: \\n{}\".format(np.array(rt_tweet['Tweets'])[0]))\n",
    "print(\"Number of retweets: {}\".format(rt_max))\n",
    "print(\"{} characters.\\n\".format(np.array(rt_tweet['len'])[0]))"
   ]
  },
  {
   "cell_type": "code",
   "execution_count": 28,
   "metadata": {},
   "outputs": [],
   "source": [
    "# We can create a time series of tweet length like this\n",
    "tlen = pd.Series(data=data['len'].values, index=data['Date'])"
   ]
  },
  {
   "cell_type": "code",
   "execution_count": 29,
   "metadata": {},
   "outputs": [
    {
     "data": {
      "text/plain": [
       "<AxesSubplot:xlabel='Date'>"
      ]
     },
     "execution_count": 29,
     "metadata": {},
     "output_type": "execute_result"
    },
    {
     "data": {
      "image/png": "[encoded data removed]",
      "text/plain": [
       "<Figure size 1152x288 with 1 Axes>"
      ]
     },
     "metadata": {
      "needs_background": "light"
     },
     "output_type": "display_data"
    }
   ],
   "source": [
    "# ...and plot it against time\n",
    "tlen.plot(figsize=(16,4), color='r')"
   ]
  },
  {
   "cell_type": "code",
   "execution_count": 30,
   "metadata": {},
   "outputs": [
    {
     "data": {
      "text/plain": [
       "<AxesSubplot:xlabel='Date'>"
      ]
     },
     "execution_count": 30,
     "metadata": {},
     "output_type": "execute_result"
    },
    {
     "data": {
      "image/png": "[encoded data removed]",
      "text/plain": [
       "<Figure size 1152x288 with 1 Axes>"
      ]
     },
     "metadata": {
      "needs_background": "light"
     },
     "output_type": "display_data"
    }
   ],
   "source": [
    "# Plot a likes vs retweets visualization, by getting the time series \n",
    "# for favourites and of retweets\n",
    "tfav = pd.Series(data=data['Likes'].values, index=data['Date'])\n",
    "tret = pd.Series(data=data['RTs'].values, index=data['Date'])\n",
    "\n",
    "tfav.plot(figsize=(16,4), label=\"Likes\", legend=True)\n",
    "tret.plot(figsize=(16,4), label=\"Retweets\", legend=True)"
   ]
  },
  {
   "cell_type": "code",
   "execution_count": null,
   "metadata": {},
   "outputs": [],
   "source": []
  },
  {
   "cell_type": "code",
   "execution_count": null,
   "metadata": {},
   "outputs": [],
   "source": []
  }
 ],
 "metadata": {
  "kernelspec": {
   "display_name": "Python 3 (ipykernel)",
   "language": "python",
   "name": "python3"
  },
  "language_info": {
   "codemirror_mode": {
    "name": "ipython",
    "version": 3
   },
   "file_extension": ".py",
   "mimetype": "text/x-python",
   "name": "python",
   "nbconvert_exporter": "python",
   "pygments_lexer": "ipython3",
   "version": "3.9.12"
  }
 },
 "nbformat": 4,
 "nbformat_minor": 1
}
